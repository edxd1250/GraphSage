{
 "cells": [
  {
   "cell_type": "code",
   "execution_count": 1,
   "id": "218fe1eb",
   "metadata": {},
   "outputs": [],
   "source": [
    "import scipy.sparse as sp\n",
    "import numpy as np\n",
    "import json\n",
    "from pathlib import Path\n",
    "\n",
    "path = Path('data_2024')\n",
    "adj = sp.load_npz(path/'adj.npz')\n",
    "feat  = np.load(path/'features.npy')\n",
    "labels = np.load(path/'labels.npy')\n",
    "splits = json.load(open(path/'splits.json'))\n",
    "idx_train, idx_test = splits['idx_train'], splits['idx_test']"
   ]
  },
  {
   "cell_type": "code",
   "execution_count": 2,
   "id": "bc0bd1d4",
   "metadata": {},
   "outputs": [
    {
     "data": {
      "text/plain": [
       "(tensor([[   0,    0,    0,  ..., 2478, 2478, 2479],\n",
       "         [1084, 1104, 1288,  ...,  931,  933,  999]]),\n",
       " tensor([1., 1., 1.,  ..., 1., 1., 1.]))"
      ]
     },
     "execution_count": 2,
     "metadata": {},
     "output_type": "execute_result"
    }
   ],
   "source": [
    "from torch_geometric.utils import from_scipy_sparse_matrix\n",
    "edge_index = from_scipy_sparse_matrix(adj)\n",
    "edge_index"
   ]
  },
  {
   "cell_type": "code",
   "execution_count": 3,
   "id": "c0512d9c",
   "metadata": {},
   "outputs": [
    {
     "data": {
      "text/plain": [
       "(496,)"
      ]
     },
     "execution_count": 3,
     "metadata": {},
     "output_type": "execute_result"
    }
   ],
   "source": [
    "labels.shape"
   ]
  },
  {
   "cell_type": "code",
   "execution_count": 4,
   "id": "26a0aa02",
   "metadata": {},
   "outputs": [
    {
     "data": {
      "text/plain": [
       "(2480, 1390)"
      ]
     },
     "execution_count": 4,
     "metadata": {},
     "output_type": "execute_result"
    }
   ],
   "source": [
    "feat.shape"
   ]
  },
  {
   "cell_type": "code",
   "execution_count": 5,
   "id": "8b75bac3",
   "metadata": {},
   "outputs": [
    {
     "data": {
      "text/plain": [
       "(496, 1984)"
      ]
     },
     "execution_count": 5,
     "metadata": {},
     "output_type": "execute_result"
    }
   ],
   "source": [
    "len(splits['idx_train']), len(splits['idx_test'])"
   ]
  },
  {
   "cell_type": "code",
   "execution_count": 6,
   "id": "15152f2d",
   "metadata": {},
   "outputs": [],
   "source": [
    "import torch\n",
    "import torch.nn.functional as F\n",
    "from torch_geometric.nn import GCNConv\n",
    "from torch_geometric.data import Data\n",
    "\n",
    "data = Data(x=torch.tensor(feat, dtype=torch.float),\n",
    "            edge_index=edge_index[0],\n",
    "            y=torch.tensor(labels, dtype=torch.long))"
   ]
  },
  {
   "cell_type": "code",
   "execution_count": 18,
   "id": "29783d72",
   "metadata": {},
   "outputs": [
    {
     "data": {
      "text/plain": [
       "Data(x=[2480, 1390], edge_index=[2, 10100], y=[496])"
      ]
     },
     "execution_count": 18,
     "metadata": {},
     "output_type": "execute_result"
    }
   ],
   "source": [
    "data"
   ]
  },
  {
   "cell_type": "code",
   "execution_count": 7,
   "id": "36e8afd4",
   "metadata": {},
   "outputs": [],
   "source": [
    "data.train_mask = torch.zeros(data.num_nodes, dtype=torch.bool)\n",
    "data.train_mask[idx_train] = 1\n",
    "data.test_mask = torch.zeros(data.num_nodes, dtype=torch.bool)\n",
    "data.test_mask[idx_test] = 1"
   ]
  },
  {
   "cell_type": "code",
   "execution_count": 20,
   "id": "e4fd4523",
   "metadata": {},
   "outputs": [
    {
     "data": {
      "text/plain": [
       "Data(x=[2480, 1390], edge_index=[2, 10100], y=[496], train_mask=[2480], test_mask=[2480])"
      ]
     },
     "execution_count": 20,
     "metadata": {},
     "output_type": "execute_result"
    }
   ],
   "source": [
    "data"
   ]
  },
  {
   "cell_type": "code",
   "execution_count": 8,
   "id": "cbd9d991",
   "metadata": {},
   "outputs": [],
   "source": [
    "import torch\n",
    "import torch.nn.functional as F\n",
    "from torch_geometric.nn import SAGEConv\n",
    "\n",
    "class GraphSage(torch.nn.Module):\n",
    "    def __init__(self, num_node_features, num_hidden, num_classes):\n",
    "        super().__init__()\n",
    "        self.conv1 = SAGEConv(num_node_features, num_hidden)\n",
    "        self.conv2 = SAGEConv(num_hidden, num_classes)\n",
    "\n",
    "    def forward(self, data):\n",
    "        x, edge_index = data.x, data.edge_index\n",
    "\n",
    "        x = self.conv1(x, edge_index)\n",
    "        x = F.relu(x)\n",
    "        x = F.dropout(x, training=self.training)\n",
    "        x = self.conv2(x, edge_index)\n",
    "\n",
    "        return F.log_softmax(x, dim=1)\n"
   ]
  },
  {
   "cell_type": "code",
   "execution_count": 9,
   "id": "13858e3a",
   "metadata": {},
   "outputs": [
    {
     "name": "stdout",
     "output_type": "stream",
     "text": [
      "Fold 1/5\n",
      "Accuracy: 0.25\n",
      "Test Accuracy: 0.26\n",
      "Fold 2/5\n",
      "Accuracy: 0.22784810126582278\n",
      "Test Accuracy: 0.22\n",
      "Fold 3/5\n",
      "Accuracy: 0.21518987341772153\n",
      "Test Accuracy: 0.25\n",
      "Fold 4/5\n",
      "Accuracy: 0.189873417721519\n",
      "Test Accuracy: 0.29\n",
      "Fold 5/5\n",
      "Accuracy: 0.11392405063291139\n",
      "Test Accuracy: 0.25\n",
      "Average Accuracy: 0.19936708860759494\n",
      "Average Test Accuracy: 0.254\n"
     ]
    }
   ],
   "source": [
    "import torch\n",
    "import torch.nn.functional as F\n",
    "from torch_geometric.nn import SAGEConv\n",
    "from sklearn.model_selection import train_test_split, KFold\n",
    "import numpy as np\n",
    "\n",
    "train_idx, test_idx = train_test_split(np.arange(len(data.y)), test_size=0.2, random_state=42)\n",
    "\n",
    "k_folds = 5\n",
    "kf = KFold(n_splits=k_folds, shuffle=True)\n",
    "\n",
    "device = torch.device('cuda' if torch.cuda.is_available() else 'cpu')\n",
    "\n",
    "accuracies = []\n",
    "test_accuracies = []\n",
    "\n",
    "for fold, (train_fold_idx, val_idx) in enumerate(kf.split(train_idx)):\n",
    "    print(f\"Fold {fold + 1}/{k_folds}\")\n",
    "\n",
    "    data = data.to(device)\n",
    "\n",
    "    model = GraphSage(num_node_features=data.x.shape[1],\n",
    "                num_hidden=32,\n",
    "                num_classes=(data.y.max() + 1).item()\n",
    "                ).to(device)\n",
    "\n",
    "    optimizer = torch.optim.Adam(model.parameters(), lr=0.001, weight_decay=5e-4)\n",
    "\n",
    "    model.train()\n",
    "    for epoch in range(200):\n",
    "        optimizer.zero_grad()\n",
    "        out = model(data)\n",
    "        loss = F.nll_loss(out[train_idx[train_fold_idx]], data.y[train_idx[train_fold_idx]])\n",
    "        loss.backward()\n",
    "        optimizer.step()\n",
    "\n",
    "    model.eval()\n",
    "    with torch.no_grad():\n",
    "        pred = model(data).argmax(dim=1)\n",
    "        acc = pred[train_idx[val_idx]].eq(data.y[train_idx[val_idx]]).sum().item() / len(val_idx)\n",
    "        accuracies.append(acc)\n",
    "        print(f\"Accuracy: {acc}\")\n",
    "        \n",
    "    with torch.no_grad():\n",
    "        test_acc = pred[test_idx].eq(data.y[test_idx]).sum().item() / len(test_idx)\n",
    "        test_accuracies.append(test_acc)\n",
    "        print(f\"Test Accuracy: {test_acc}\")\n",
    "\n",
    "\n",
    "avg_accuracy = np.mean(accuracies)\n",
    "print(f\"Average Accuracy: {avg_accuracy}\")\n",
    "avg_test_accuracy = np.mean(test_accuracies)\n",
    "print(f\"Average Test Accuracy: {avg_test_accuracy}\")\n"
   ]
  },
  {
   "cell_type": "code",
   "execution_count": 10,
   "id": "3d28dfbb",
   "metadata": {},
   "outputs": [
    {
     "name": "stdout",
     "output_type": "stream",
     "text": [
      "Accuracy: 0.2500\n"
     ]
    }
   ],
   "source": [
    "model.eval()\n",
    "pred = model(data).argmax(dim=1)\n",
    "acc =  pred[test_idx].eq(data.y[test_idx]).sum().item() / len(test_idx)\n",
    "print(f'Accuracy: {acc:.4f}')"
   ]
  },
  {
   "cell_type": "code",
   "execution_count": 11,
   "id": "d8f2629c",
   "metadata": {},
   "outputs": [],
   "source": [
    "#try normalizing \n",
    "from sklearn.preprocessing import StandardScaler\n",
    "scaler = StandardScaler()\n",
    "feat_normalized = scaler.fit_transform(feat)"
   ]
  },
  {
   "cell_type": "code",
   "execution_count": 12,
   "id": "d5702926",
   "metadata": {},
   "outputs": [],
   "source": [
    "data1 = Data(x=torch.tensor(feat_normalized, dtype=torch.float),\n",
    "            edge_index=edge_index[0],\n",
    "            y=torch.tensor(labels, dtype=torch.long))"
   ]
  },
  {
   "cell_type": "code",
   "execution_count": 13,
   "id": "39d601a9",
   "metadata": {},
   "outputs": [],
   "source": [
    "data1.train_mask = torch.zeros(data1.num_nodes, dtype=torch.bool)\n",
    "data1.train_mask[idx_train] = 1\n",
    "data1.test_mask = torch.zeros(data1.num_nodes, dtype=torch.bool)\n",
    "data1.test_mask[idx_test] = 1"
   ]
  },
  {
   "cell_type": "code",
   "execution_count": 14,
   "id": "aca12a24",
   "metadata": {},
   "outputs": [
    {
     "data": {
      "text/plain": [
       "Data(x=[2480, 1390], edge_index=[2, 10100], y=[496], train_mask=[2480], test_mask=[2480])"
      ]
     },
     "execution_count": 14,
     "metadata": {},
     "output_type": "execute_result"
    }
   ],
   "source": [
    "data1"
   ]
  },
  {
   "cell_type": "code",
   "execution_count": 15,
   "id": "ca21303d",
   "metadata": {},
   "outputs": [
    {
     "name": "stdout",
     "output_type": "stream",
     "text": [
      "Fold 1/5\n",
      "Accuracy: 0.25\n",
      "Test Accuracy: 0.24\n",
      "Fold 2/5\n",
      "Accuracy: 0.1518987341772152\n",
      "Test Accuracy: 0.22\n",
      "Fold 3/5\n",
      "Accuracy: 0.16455696202531644\n",
      "Test Accuracy: 0.28\n",
      "Fold 4/5\n",
      "Accuracy: 0.11392405063291139\n",
      "Test Accuracy: 0.2\n",
      "Fold 5/5\n",
      "Accuracy: 0.13924050632911392\n",
      "Test Accuracy: 0.27\n",
      "Average Accuracy: 0.1639240506329114\n",
      "Average Test Accuracy: 0.242\n"
     ]
    }
   ],
   "source": [
    "import torch\n",
    "import torch.nn.functional as F\n",
    "from torch_geometric.nn import SAGEConv\n",
    "from sklearn.model_selection import train_test_split, KFold\n",
    "import numpy as np\n",
    "\n",
    "train_idx, test_idx = train_test_split(np.arange(len(data1.y)), test_size=0.2, random_state=42)\n",
    "\n",
    "k_folds = 5\n",
    "kf = KFold(n_splits=k_folds, shuffle=True)\n",
    "\n",
    "device = torch.device('cuda' if torch.cuda.is_available() else 'cpu')\n",
    "\n",
    "accuracies = []\n",
    "test_accuracies = []\n",
    "\n",
    "for fold, (train_fold_idx, val_idx) in enumerate(kf.split(train_idx)):\n",
    "    print(f\"Fold {fold + 1}/{k_folds}\")\n",
    "\n",
    "    data1 = data1.to(device)\n",
    "\n",
    "    model = GraphSage(num_node_features=data1.x.shape[1],\n",
    "                num_hidden=32,\n",
    "                num_classes=(data1.y.max() + 1).item()\n",
    "                ).to(device)\n",
    "\n",
    "    optimizer = torch.optim.Adam(model.parameters(), lr=0.001, weight_decay=5e-4)\n",
    "\n",
    "    model.train()\n",
    "    for epoch in range(200):\n",
    "        optimizer.zero_grad()\n",
    "        out = model(data1)\n",
    "        loss = F.nll_loss(out[train_idx[train_fold_idx]], data1.y[train_idx[train_fold_idx]])\n",
    "        loss.backward()\n",
    "        optimizer.step()\n",
    "\n",
    "    model.eval()\n",
    "    with torch.no_grad():\n",
    "        pred = model(data1).argmax(dim=1)\n",
    "        acc = pred[train_idx[val_idx]].eq(data1.y[train_idx[val_idx]]).sum().item() / len(val_idx)\n",
    "        accuracies.append(acc)\n",
    "        print(f\"Accuracy: {acc}\")\n",
    "        \n",
    "    with torch.no_grad():\n",
    "        test_acc = pred[test_idx].eq(data1.y[test_idx]).sum().item() / len(test_idx)\n",
    "        test_accuracies.append(test_acc)\n",
    "        print(f\"Test Accuracy: {test_acc}\")\n",
    "\n",
    "\n",
    "avg_accuracy = np.mean(accuracies)\n",
    "print(f\"Average Accuracy: {avg_accuracy}\")\n",
    "avg_test_accuracy = np.mean(test_accuracies)\n",
    "print(f\"Average Test Accuracy: {avg_test_accuracy}\")\n"
   ]
  },
  {
   "cell_type": "code",
   "execution_count": 16,
   "id": "7ff427cf",
   "metadata": {},
   "outputs": [
    {
     "name": "stdout",
     "output_type": "stream",
     "text": [
      "Accuracy: 0.1900\n"
     ]
    }
   ],
   "source": [
    "model.eval()\n",
    "pred = model(data).argmax(dim=1)\n",
    "acc =  pred[test_idx].eq(data1.y[test_idx]).sum().item() / len(test_idx)\n",
    "print(f'Accuracy: {acc:.4f}')"
   ]
  },
  {
   "cell_type": "code",
   "execution_count": null,
   "id": "0605ce3e",
   "metadata": {},
   "outputs": [],
   "source": []
  }
 ],
 "metadata": {
  "kernelspec": {
   "display_name": "Python 3.12.2 ('graphsage')",
   "language": "python",
   "name": "python3"
  },
  "language_info": {
   "codemirror_mode": {
    "name": "ipython",
    "version": 3
   },
   "file_extension": ".py",
   "mimetype": "text/x-python",
   "name": "python",
   "nbconvert_exporter": "python",
   "pygments_lexer": "ipython3",
   "version": "3.12.2"
  },
  "vscode": {
   "interpreter": {
    "hash": "b1cd7fe2092f8558eaeec7a344d6c72cd3491c14a7d06f3a2798a65abb497b7d"
   }
  }
 },
 "nbformat": 4,
 "nbformat_minor": 5
}
